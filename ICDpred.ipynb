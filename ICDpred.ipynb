{
 "cells": [
  {
   "cell_type": "markdown",
   "id": "019f5f9a-1984-4ade-b42c-e474b81f6065",
   "metadata": {},
   "source": [
    "## ICD CODE PREDICTON\n"
   ]
  },
  {
   "cell_type": "markdown",
   "id": "386ddc5b-82d2-43e3-83c4-e8301f2dab83",
   "metadata": {},
   "source": [
    "### THIS NOTE BOOK CONTAINS DEEP LEARNIG AND TRADITIONAL NLP TECHNQUES FOR PREDCTION OF ICD  CODE PREDICTION USING MI"
   ]
  }
 ],
 "metadata": {
  "kernelspec": {
   "display_name": "Python 3 (ipykernel)",
   "language": "python",
   "name": "python3"
  },
  "language_info": {
   "codemirror_mode": {
    "name": "ipython",
    "version": 3
   },
   "file_extension": ".py",
   "mimetype": "text/x-python",
   "name": "python",
   "nbconvert_exporter": "python",
   "pygments_lexer": "ipython3",
   "version": "3.11.7"
  }
 },
 "nbformat": 4,
 "nbformat_minor": 5
}
